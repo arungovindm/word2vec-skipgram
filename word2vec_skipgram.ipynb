{
  "nbformat": 4,
  "nbformat_minor": 0,
  "metadata": {
    "colab": {
      "name": "word2vec-skipgram.ipynb",
      "version": "0.3.2",
      "provenance": [],
      "collapsed_sections": [],
      "include_colab_link": true
    },
    "kernelspec": {
      "name": "python3",
      "display_name": "Python 3"
    }
  },
  "cells": [
    {
      "cell_type": "markdown",
      "metadata": {
        "id": "view-in-github",
        "colab_type": "text"
      },
      "source": [
        "<a href=\"https://colab.research.google.com/github/arungovindm/word2vec-skipgram/blob/arch-1/word2vec_skipgram.ipynb\" target=\"_parent\"><img src=\"https://colab.research.google.com/assets/colab-badge.svg\" alt=\"Open In Colab\"/></a>"
      ]
    },
    {
      "metadata": {
        "id": "oTIqAD2bcYCH",
        "colab_type": "code",
        "colab": {}
      },
      "cell_type": "code",
      "source": [
        "import numpy as np\n",
        "import nltk\n",
        "import tensorflow as tf\n",
        "import keras"
      ],
      "execution_count": 0,
      "outputs": []
    },
    {
      "metadata": {
        "id": "GJcvw7lzcl-C",
        "colab_type": "code",
        "outputId": "145b130b-3e8d-4129-dbed-cb55176f2df7",
        "colab": {
          "base_uri": "https://localhost:8080/",
          "height": 52
        }
      },
      "cell_type": "code",
      "source": [
        "nltk.download('reuters')\n",
        "from nltk.corpus import reuters\n",
        "t=reuters.fileids()"
      ],
      "execution_count": 0,
      "outputs": [
        {
          "output_type": "stream",
          "text": [
            "[nltk_data] Downloading package reuters to /root/nltk_data...\n",
            "[nltk_data]   Package reuters is already up-to-date!\n"
          ],
          "name": "stdout"
        }
      ]
    },
    {
      "metadata": {
        "id": "0K3YrIQDdA-P",
        "colab_type": "code",
        "colab": {}
      },
      "cell_type": "code",
      "source": [
        "train=[]\n",
        "test=[]\n",
        "for a in t:\n",
        "    if a.startswith('training'):\n",
        "        train.append(a)\n",
        "    else:\n",
        "        test.append(a)"
      ],
      "execution_count": 0,
      "outputs": []
    },
    {
      "metadata": {
        "id": "Gl3u2UOYdFXl",
        "colab_type": "code",
        "outputId": "a18bfe15-674d-431c-be92-25b5a8683eb4",
        "colab": {
          "base_uri": "https://localhost:8080/",
          "height": 34
        }
      },
      "cell_type": "code",
      "source": [
        "len(reuters.words(train))"
      ],
      "execution_count": 0,
      "outputs": [
        {
          "output_type": "execute_result",
          "data": {
            "text/plain": [
              "1253696"
            ]
          },
          "metadata": {
            "tags": []
          },
          "execution_count": 79
        }
      ]
    },
    {
      "metadata": {
        "id": "3YODVjJXe7B3",
        "colab_type": "code",
        "colab": {}
      },
      "cell_type": "code",
      "source": [
        "corpus=reuters.words(train)"
      ],
      "execution_count": 0,
      "outputs": []
    },
    {
      "metadata": {
        "id": "EfkscdAWexMr",
        "colab_type": "code",
        "colab": {}
      },
      "cell_type": "code",
      "source": [
        "fdist = nltk.FreqDist(corpus)\n"
      ],
      "execution_count": 0,
      "outputs": []
    },
    {
      "metadata": {
        "id": "GWewazDQgAUS",
        "colab_type": "code",
        "outputId": "10387541-428a-4fc4-9542-45b2d4810d2c",
        "colab": {
          "base_uri": "https://localhost:8080/",
          "height": 52
        }
      },
      "cell_type": "code",
      "source": [
        "from nltk.corpus import stopwords\n",
        "nltk.download('stopwords')\n",
        "rem = set(stopwords.words('english'))"
      ],
      "execution_count": 0,
      "outputs": [
        {
          "output_type": "stream",
          "text": [
            "[nltk_data] Downloading package stopwords to /root/nltk_data...\n",
            "[nltk_data]   Package stopwords is already up-to-date!\n"
          ],
          "name": "stdout"
        }
      ]
    },
    {
      "metadata": {
        "id": "CeZ7ohpqhkCj",
        "colab_type": "code",
        "colab": {}
      },
      "cell_type": "code",
      "source": [
        "punct=[',','.']\n",
        "rem.update(punct)"
      ],
      "execution_count": 0,
      "outputs": []
    },
    {
      "metadata": {
        "id": "owZyF16Hgdi1",
        "colab_type": "code",
        "colab": {}
      },
      "cell_type": "code",
      "source": [
        "filtered_corpus = []\n",
        "for w in corpus:\n",
        "  if not (w.isdigit() or w in rem or len(w)<3):\n",
        "    filtered_corpus.append(w)"
      ],
      "execution_count": 0,
      "outputs": []
    },
    {
      "metadata": {
        "id": "5FBqZ7YChOrs",
        "colab_type": "code",
        "outputId": "707edb98-0ea6-4f7a-c19d-f07e323632b9",
        "colab": {
          "base_uri": "https://localhost:8080/",
          "height": 34
        }
      },
      "cell_type": "code",
      "source": [
        "len(nltk.FreqDist(filtered_corpus))"
      ],
      "execution_count": 0,
      "outputs": [
        {
          "output_type": "execute_result",
          "data": {
            "text/plain": [
              "33226"
            ]
          },
          "metadata": {
            "tags": []
          },
          "execution_count": 85
        }
      ]
    },
    {
      "metadata": {
        "id": "4IJetGg-nvxl",
        "colab_type": "code",
        "outputId": "656a6b3f-9e19-40fb-9721-b8fe9f515fe1",
        "colab": {
          "base_uri": "https://localhost:8080/",
          "height": 34
        }
      },
      "cell_type": "code",
      "source": [
        "len(nltk.FreqDist(corpus))"
      ],
      "execution_count": 0,
      "outputs": [
        {
          "output_type": "execute_result",
          "data": {
            "text/plain": [
              "35247"
            ]
          },
          "metadata": {
            "tags": []
          },
          "execution_count": 86
        }
      ]
    },
    {
      "metadata": {
        "id": "iHRMALicrn14",
        "colab_type": "code",
        "colab": {}
      },
      "cell_type": "code",
      "source": [
        "V=len(nltk.FreqDist(filtered_corpus))\n",
        "d=300 #dimensionality\n",
        "\n",
        "power =0.75\n",
        "W=np.random.rand(V,d)"
      ],
      "execution_count": 0,
      "outputs": []
    },
    {
      "metadata": {
        "id": "3KyEWrIRtJMe",
        "colab_type": "code",
        "outputId": "6122c80f-382c-47dc-fd96-fa46c4f343f8",
        "colab": {
          "base_uri": "https://localhost:8080/",
          "height": 34
        }
      },
      "cell_type": "code",
      "source": [
        "Z=0\n",
        "vocab = nltk.FreqDist(filtered_corpus)\n",
        "for a,b in vocab.items():\n",
        "  Z=Z+b**power\n",
        "print(Z)"
      ],
      "execution_count": 0,
      "outputs": [
        {
          "output_type": "stream",
          "text": [
            "195801.74701170594\n"
          ],
          "name": "stdout"
        }
      ]
    },
    {
      "metadata": {
        "id": "HnujZdnbCTAS",
        "colab_type": "code",
        "colab": {}
      },
      "cell_type": "code",
      "source": [
        "vocab = nltk.FreqDist(filtered_corpus)"
      ],
      "execution_count": 0,
      "outputs": []
    },
    {
      "metadata": {
        "id": "jRr6oRLwJ4V4",
        "colab_type": "code",
        "colab": {}
      },
      "cell_type": "code",
      "source": [
        "word_idx = dict()\n",
        "idx_word=dict()\n",
        "dict_count = dict()\n",
        "i=1\n",
        "for word, count in vocab.items():\n",
        "  word_idx[word]=i\n",
        "  idx_word[i]=word\n",
        "  dict_count[i]=count\n",
        "  i=i+1"
      ],
      "execution_count": 0,
      "outputs": []
    },
    {
      "metadata": {
        "id": "syr8_i-KE32Z",
        "colab_type": "code",
        "colab": {}
      },
      "cell_type": "code",
      "source": [
        "labelled_corpus=[]\n",
        "for word in filtered_corpus:\n",
        "  labelled_corpus.append(word_idx[word])"
      ],
      "execution_count": 0,
      "outputs": []
    },
    {
      "metadata": {
        "id": "OK4QMJhoCUmq",
        "colab_type": "code",
        "colab": {}
      },
      "cell_type": "code",
      "source": [
        "del corpus, filtered_corpus"
      ],
      "execution_count": 0,
      "outputs": []
    },
    {
      "metadata": {
        "id": "SWMFoIAfQ_zE",
        "colab_type": "code",
        "colab": {}
      },
      "cell_type": "code",
      "source": [
        "window_size = 2 #context window size\n",
        "target=[]\n",
        "context=[]"
      ],
      "execution_count": 0,
      "outputs": []
    },
    {
      "metadata": {
        "id": "sDxSdAEmT3Sk",
        "colab_type": "code",
        "colab": {}
      },
      "cell_type": "code",
      "source": [
        "for i in range(len(labelled_corpus)):\n",
        "  for j in range(window_size):\n",
        "    if i+j+1 < len(labelled_corpus):\n",
        "      context.append(labelled_corpus[i+j+1])\n",
        "      target.append(labelled_corpus[i])\n",
        "    if i-j-1 >=0:\n",
        "      context.append(labelled_corpus[i-j-1])\n",
        "      target.append(labelled_corpus[i])"
      ],
      "execution_count": 0,
      "outputs": []
    },
    {
      "metadata": {
        "id": "TOBBNykaUmFE",
        "colab_type": "code",
        "colab": {}
      },
      "cell_type": "code",
      "source": [
        "neg=5 #number of negative samples\n"
      ],
      "execution_count": 0,
      "outputs": []
    },
    {
      "metadata": {
        "id": "6lXm2wAyZGrj",
        "colab_type": "code",
        "colab": {}
      },
      "cell_type": "code",
      "source": [
        "dict_prob=dict()\n",
        "for idx,count in dict_count.items():\n",
        "  dict_prob[idx]=(dict_count[idx]**power)/Z"
      ],
      "execution_count": 0,
      "outputs": []
    },
    {
      "metadata": {
        "id": "COwl0eeeaVsG",
        "colab_type": "code",
        "colab": {}
      },
      "cell_type": "code",
      "source": [
        "def unigram_sampling(dct):\n",
        "    rand_val = np.random.random()\n",
        "    total = 0\n",
        "    for k, v in dct.items():\n",
        "        total += v\n",
        "        if rand_val <= total:\n",
        "            return k\n",
        "    assert False, 'unreachable'"
      ],
      "execution_count": 0,
      "outputs": []
    },
    {
      "metadata": {
        "id": "6ndhc5B3dRyC",
        "colab_type": "code",
        "outputId": "64916c7c-06b4-4552-cb51-2114afbc7e49",
        "colab": {
          "base_uri": "https://localhost:8080/",
          "height": 34
        }
      },
      "cell_type": "code",
      "source": [
        "idx_word[unigram_sampling(dict_prob)]"
      ],
      "execution_count": 0,
      "outputs": [
        {
          "output_type": "execute_result",
          "data": {
            "text/plain": [
              "'pension'"
            ]
          },
          "metadata": {
            "tags": []
          },
          "execution_count": 115
        }
      ]
    },
    {
      "metadata": {
        "id": "pPCUEX6njitD",
        "colab_type": "code",
        "outputId": "91fa44ab-8b8a-42f7-81c7-deaa856df3ba",
        "colab": {
          "base_uri": "https://localhost:8080/",
          "height": 34
        }
      },
      "cell_type": "code",
      "source": [
        "vocab_size=V"
      ],
      "execution_count": 0,
      "outputs": [
        {
          "output_type": "execute_result",
          "data": {
            "text/plain": [
              "33226"
            ]
          },
          "metadata": {
            "tags": []
          },
          "execution_count": 131
        }
      ]
    },
    {
      "metadata": {
        "id": "1hNk97aFC749",
        "colab_type": "code",
        "outputId": "29a6fee4-d46a-47a3-e209-823368c473de",
        "colab": {
          "base_uri": "https://localhost:8080/",
          "height": 34
        }
      },
      "cell_type": "code",
      "source": [
        "np.max(labelled_corpus)"
      ],
      "execution_count": 0,
      "outputs": [
        {
          "output_type": "execute_result",
          "data": {
            "text/plain": [
              "33226"
            ]
          },
          "metadata": {
            "tags": []
          },
          "execution_count": 130
        }
      ]
    },
    {
      "metadata": {
        "id": "ebyred1ckZWp",
        "colab_type": "code",
        "colab": {}
      },
      "cell_type": "code",
      "source": [
        "def get_one_hot(a):\n",
        "  vec=np.zeros(shape=(vocab_size,1))\n",
        "  vec[a-1]=1\n",
        "  return vec"
      ],
      "execution_count": 0,
      "outputs": []
    },
    {
      "metadata": {
        "id": "RJo4aFyWCpVt",
        "colab_type": "code",
        "outputId": "80004622-f50a-483e-fe4b-650e4b7c75ca",
        "colab": {
          "base_uri": "https://localhost:8080/",
          "height": 139
        }
      },
      "cell_type": "code",
      "source": [
        "get_one_hot(vocab_size)"
      ],
      "execution_count": 0,
      "outputs": [
        {
          "output_type": "execute_result",
          "data": {
            "text/plain": [
              "array([[0.],\n",
              "       [0.],\n",
              "       [0.],\n",
              "       ...,\n",
              "       [0.],\n",
              "       [0.],\n",
              "       [1.]])"
            ]
          },
          "metadata": {
            "tags": []
          },
          "execution_count": 133
        }
      ]
    },
    {
      "metadata": {
        "id": "LA14F-gBjFGN",
        "colab_type": "code",
        "colab": {}
      },
      "cell_type": "code",
      "source": [
        "# building the neural net with tensorflow\n",
        "\n",
        "#model parameteres\n",
        "b=tf.Variable(tf.zeros(vocab_size,1))\n",
        "W=tf.Variable(tf.random_uniform((vocab_size,d),-1,1))\n",
        "\n",
        "\n",
        "#input\n",
        "w=tf.placeholder(tf.float32,(neg+2,1))\n",
        "\n",
        "#hidden layer\n",
        "H1=tf.gather_nd(W,w)\n",
        "r1=tf.gather(H,[[0]])\n",
        "H2=tf.matmul(r1,tf.transpose(H1))\n",
        "\n",
        "#loss\n",
        "prediction = tf.nn.sigmoid(tf.matmul(tf.transpose(v_w),v_c))\n",
        "loss = -1*tf.log(prediction)\n",
        "train_step = tf.train.GradientDescentOptimizer(0.5).minimize(loss)"
      ],
      "execution_count": 0,
      "outputs": []
    },
    {
      "metadata": {
        "id": "a-caY1nivsPY",
        "colab_type": "code",
        "colab": {}
      },
      "cell_type": "code",
      "source": [
        "sesh = tf.Session()\n",
        "sesh.run(tf.initialize_all_variables())\n",
        "sesh.run(v_w,{w:get_one_hot(w_in)})\n",
        "sesh.run(v_c,{c:get_one_hot(c_in)})\n",
        "\n",
        "\n",
        "for i in range(1000):\n",
        "  batch_v,batch_w = \n"
      ],
      "execution_count": 0,
      "outputs": []
    },
    {
      "metadata": {
        "id": "V1Iqi3RhdePB",
        "colab_type": "code",
        "outputId": "83325437-ec47-4e7f-9ed8-0d117c51d4a7",
        "colab": {
          "base_uri": "https://localhost:8080/",
          "height": 34
        }
      },
      "cell_type": "code",
      "source": [
        "neg"
      ],
      "execution_count": 0,
      "outputs": [
        {
          "output_type": "execute_result",
          "data": {
            "text/plain": [
              "5"
            ]
          },
          "metadata": {
            "tags": []
          },
          "execution_count": 139
        }
      ]
    }
  ]
}