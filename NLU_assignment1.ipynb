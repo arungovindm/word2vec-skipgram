{
  "nbformat": 4,
  "nbformat_minor": 0,
  "metadata": {
    "colab": {
      "name": "NLU assignment1.ipynb",
      "version": "0.3.2",
      "provenance": [],
      "collapsed_sections": [],
      "include_colab_link": true
    },
    "kernelspec": {
      "name": "python3",
      "display_name": "Python 3"
    }
  },
  "cells": [
    {
      "cell_type": "markdown",
      "metadata": {
        "id": "view-in-github",
        "colab_type": "text"
      },
      "source": [
        "<a href=\"https://colab.research.google.com/github/arungovindm/word2vec-skipgram/blob/master/NLU_assignment1.ipynb\" target=\"_parent\"><img src=\"https://colab.research.google.com/assets/colab-badge.svg\" alt=\"Open In Colab\"/></a>"
      ]
    },
    {
      "metadata": {
        "id": "oTIqAD2bcYCH",
        "colab_type": "code",
        "colab": {}
      },
      "cell_type": "code",
      "source": [
        "import numpy as np\n",
        "import nltk\n",
        "import tensorflow as tf\n",
        "import keras"
      ],
      "execution_count": 0,
      "outputs": []
    },
    {
      "metadata": {
        "id": "GJcvw7lzcl-C",
        "colab_type": "code",
        "outputId": "52d7aebd-9bc3-4a67-adfc-b6b0675d7f6a",
        "colab": {
          "base_uri": "https://localhost:8080/",
          "height": 52
        }
      },
      "cell_type": "code",
      "source": [
        "nltk.download('reuters')\n",
        "from nltk.corpus import reuters\n",
        "t=reuters.fileids()"
      ],
      "execution_count": 77,
      "outputs": [
        {
          "output_type": "stream",
          "text": [
            "[nltk_data] Downloading package reuters to /root/nltk_data...\n",
            "[nltk_data]   Package reuters is already up-to-date!\n"
          ],
          "name": "stdout"
        }
      ]
    },
    {
      "metadata": {
        "id": "0K3YrIQDdA-P",
        "colab_type": "code",
        "colab": {}
      },
      "cell_type": "code",
      "source": [
        "train=[]\n",
        "test=[]\n",
        "for a in t:\n",
        "    if a.startswith('training'):\n",
        "        train.append(a)\n",
        "    else:\n",
        "        test.append(a)"
      ],
      "execution_count": 0,
      "outputs": []
    },
    {
      "metadata": {
        "id": "Gl3u2UOYdFXl",
        "colab_type": "code",
        "outputId": "a18bfe15-674d-431c-be92-25b5a8683eb4",
        "colab": {
          "base_uri": "https://localhost:8080/",
          "height": 34
        }
      },
      "cell_type": "code",
      "source": [
        "len(reuters.words(train))"
      ],
      "execution_count": 79,
      "outputs": [
        {
          "output_type": "execute_result",
          "data": {
            "text/plain": [
              "1253696"
            ]
          },
          "metadata": {
            "tags": []
          },
          "execution_count": 79
        }
      ]
    },
    {
      "metadata": {
        "id": "3YODVjJXe7B3",
        "colab_type": "code",
        "colab": {}
      },
      "cell_type": "code",
      "source": [
        "corpus=reuters.words(train)"
      ],
      "execution_count": 0,
      "outputs": []
    },
    {
      "metadata": {
        "id": "EfkscdAWexMr",
        "colab_type": "code",
        "colab": {}
      },
      "cell_type": "code",
      "source": [
        "fdist = nltk.FreqDist(corpus)\n"
      ],
      "execution_count": 0,
      "outputs": []
    },
    {
      "metadata": {
        "id": "GWewazDQgAUS",
        "colab_type": "code",
        "outputId": "10387541-428a-4fc4-9542-45b2d4810d2c",
        "colab": {
          "base_uri": "https://localhost:8080/",
          "height": 52
        }
      },
      "cell_type": "code",
      "source": [
        "from nltk.corpus import stopwords\n",
        "nltk.download('stopwords')\n",
        "rem = set(stopwords.words('english'))"
      ],
      "execution_count": 82,
      "outputs": [
        {
          "output_type": "stream",
          "text": [
            "[nltk_data] Downloading package stopwords to /root/nltk_data...\n",
            "[nltk_data]   Package stopwords is already up-to-date!\n"
          ],
          "name": "stdout"
        }
      ]
    },
    {
      "metadata": {
        "id": "CeZ7ohpqhkCj",
        "colab_type": "code",
        "colab": {}
      },
      "cell_type": "code",
      "source": [
        "punct=[',','.']\n",
        "rem.update(punct)"
      ],
      "execution_count": 0,
      "outputs": []
    },
    {
      "metadata": {
        "id": "owZyF16Hgdi1",
        "colab_type": "code",
        "colab": {}
      },
      "cell_type": "code",
      "source": [
        "filtered_corpus = []\n",
        "for w in corpus:\n",
        "  if not (w.isdigit() or w in rem or len(w)<3):\n",
        "    filtered_corpus.append(w)"
      ],
      "execution_count": 0,
      "outputs": []
    },
    {
      "metadata": {
        "id": "5FBqZ7YChOrs",
        "colab_type": "code",
        "outputId": "707edb98-0ea6-4f7a-c19d-f07e323632b9",
        "colab": {
          "base_uri": "https://localhost:8080/",
          "height": 34
        }
      },
      "cell_type": "code",
      "source": [
        "len(nltk.FreqDist(filtered_corpus))"
      ],
      "execution_count": 85,
      "outputs": [
        {
          "output_type": "execute_result",
          "data": {
            "text/plain": [
              "33226"
            ]
          },
          "metadata": {
            "tags": []
          },
          "execution_count": 85
        }
      ]
    },
    {
      "metadata": {
        "id": "4IJetGg-nvxl",
        "colab_type": "code",
        "outputId": "656a6b3f-9e19-40fb-9721-b8fe9f515fe1",
        "colab": {
          "base_uri": "https://localhost:8080/",
          "height": 34
        }
      },
      "cell_type": "code",
      "source": [
        "len(nltk.FreqDist(corpus))"
      ],
      "execution_count": 86,
      "outputs": [
        {
          "output_type": "execute_result",
          "data": {
            "text/plain": [
              "35247"
            ]
          },
          "metadata": {
            "tags": []
          },
          "execution_count": 86
        }
      ]
    },
    {
      "metadata": {
        "id": "iHRMALicrn14",
        "colab_type": "code",
        "colab": {}
      },
      "cell_type": "code",
      "source": [
        "V=len(nltk.FreqDist(filtered_corpus))\n",
        "d=300 #dimensionality\n",
        "\n",
        "power =0.75\n",
        "W=np.random.rand(V,d)"
      ],
      "execution_count": 0,
      "outputs": []
    },
    {
      "metadata": {
        "id": "3KyEWrIRtJMe",
        "colab_type": "code",
        "outputId": "6122c80f-382c-47dc-fd96-fa46c4f343f8",
        "colab": {
          "base_uri": "https://localhost:8080/",
          "height": 34
        }
      },
      "cell_type": "code",
      "source": [
        "Z=0\n",
        "vocab = nltk.FreqDist(filtered_corpus)\n",
        "for a,b in vocab.items():\n",
        "  Z=Z+b**power\n",
        "print(Z)"
      ],
      "execution_count": 88,
      "outputs": [
        {
          "output_type": "stream",
          "text": [
            "195801.74701170594\n"
          ],
          "name": "stdout"
        }
      ]
    },
    {
      "metadata": {
        "id": "HnujZdnbCTAS",
        "colab_type": "code",
        "colab": {}
      },
      "cell_type": "code",
      "source": [
        "vocab = nltk.FreqDist(filtered_corpus)"
      ],
      "execution_count": 0,
      "outputs": []
    },
    {
      "metadata": {
        "id": "jRr6oRLwJ4V4",
        "colab_type": "code",
        "colab": {}
      },
      "cell_type": "code",
      "source": [
        "word_idx = dict()\n",
        "idx_word=dict()\n",
        "dict_count = dict()\n",
        "i=1\n",
        "for word, count in vocab.items():\n",
        "  word_idx[word]=i\n",
        "  idx_word[i]=word\n",
        "  dict_count[i]=count\n",
        "  i=i+1"
      ],
      "execution_count": 0,
      "outputs": []
    },
    {
      "metadata": {
        "id": "syr8_i-KE32Z",
        "colab_type": "code",
        "colab": {}
      },
      "cell_type": "code",
      "source": [
        "labelled_corpus=[]\n",
        "for word in filtered_corpus:\n",
        "  labelled_corpus.append(word_idx[word])"
      ],
      "execution_count": 0,
      "outputs": []
    },
    {
      "metadata": {
        "id": "OK4QMJhoCUmq",
        "colab_type": "code",
        "colab": {}
      },
      "cell_type": "code",
      "source": [
        "del corpus, filtered_corpus"
      ],
      "execution_count": 0,
      "outputs": []
    },
    {
      "metadata": {
        "id": "SWMFoIAfQ_zE",
        "colab_type": "code",
        "colab": {}
      },
      "cell_type": "code",
      "source": [
        "window_size = 2 #context window size\n",
        "target=[]\n",
        "context=[]"
      ],
      "execution_count": 0,
      "outputs": []
    },
    {
      "metadata": {
        "id": "sDxSdAEmT3Sk",
        "colab_type": "code",
        "colab": {}
      },
      "cell_type": "code",
      "source": [
        "for i in range(len(labelled_corpus)):\n",
        "  for j in range(window_size):\n",
        "    if i+j+1 < len(labelled_corpus):\n",
        "      context.append(labelled_corpus[i+j+1])\n",
        "      target.append(labelled_corpus[i])\n",
        "    if i-j-1 >=0:\n",
        "      context.append(labelled_corpus[i-j-1])\n",
        "      target.append(labelled_corpus[i])"
      ],
      "execution_count": 0,
      "outputs": []
    },
    {
      "metadata": {
        "id": "TOBBNykaUmFE",
        "colab_type": "code",
        "colab": {}
      },
      "cell_type": "code",
      "source": [
        "neg=5 #number of negative samples\n"
      ],
      "execution_count": 0,
      "outputs": []
    },
    {
      "metadata": {
        "id": "6lXm2wAyZGrj",
        "colab_type": "code",
        "colab": {}
      },
      "cell_type": "code",
      "source": [
        "dict_prob=dict()\n",
        "for idx,count in dict_count.items():\n",
        "  dict_prob[idx]=(dict_count[idx]**power)/Z"
      ],
      "execution_count": 0,
      "outputs": []
    },
    {
      "metadata": {
        "id": "COwl0eeeaVsG",
        "colab_type": "code",
        "colab": {
          "base_uri": "https://localhost:8080/",
          "height": 34
        },
        "outputId": "dc2e2872-3cc9-400e-9338-e3e8d64b4337"
      },
      "cell_type": "code",
      "source": [
        "np.random.rand()"
      ],
      "execution_count": 104,
      "outputs": [
        {
          "output_type": "execute_result",
          "data": {
            "text/plain": [
              "0.27823470153117014"
            ]
          },
          "metadata": {
            "tags": []
          },
          "execution_count": 104
        }
      ]
    }
  ]
}